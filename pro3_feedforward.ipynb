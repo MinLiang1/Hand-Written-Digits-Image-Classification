{
 "cells": [
  {
   "cell_type": "code",
   "execution_count": 42,
   "metadata": {
    "collapsed": false
   },
   "outputs": [],
   "source": [
    "import numpy as np\n",
    "import csv\n",
    "from matplotlib import pyplot as plt\n",
    "import random\n",
    "%matplotlib inline\n",
    "import os\n",
    "from sklearn.cross_validation import train_test_split \n",
    "from sklearn.metrics import confusion_matrix, classification_report\n",
    "from sklearn.preprocessing import LabelBinarizer\n",
    "from sklearn.cross_validation import KFold\n",
    "from sklearn.decomposition import PCA\n",
    "from sklearn.externals import joblib"
   ]
  },
  {
   "cell_type": "code",
   "execution_count": 9,
   "metadata": {
    "collapsed": true
   },
   "outputs": [],
   "source": [
    "path = os.getcwd()"
   ]
  },
  {
   "cell_type": "code",
   "execution_count": 5,
   "metadata": {
    "collapsed": false
   },
   "outputs": [],
   "source": [
    "## Loading data ##\n",
    "\n",
    "# Load all training inputs to a python list\n",
    "train_inputs = []\n",
    "with open('E:\\\\MinMcGill\\\\ml\\\\project3\\\\data_and_scripts\\\\data_and_scripts\\\\train_inputs.csv', 'r') as csvfile:\n",
    "    reader = csv.reader(csvfile, delimiter=',')\n",
    "    next(reader, None)  # skip the header\n",
    "    for train_input in reader: \n",
    "        train_input_no_id = []\n",
    "        for pixel in train_input[1:]: # Start at index 1 to skip the Id\n",
    "            train_input_no_id.append(float(pixel))\n",
    "        train_inputs.append(train_input_no_id) \n",
    "\n",
    "# Load all training ouputs to a python list\n",
    "train_outputs = []\n",
    "with open('E:\\\\MinMcGill\\\\ml\\\\project3\\\\data_and_scripts\\\\data_and_scripts\\\\train_outputs.csv', 'r') as csvfile:\n",
    "    reader = csv.reader(csvfile, delimiter=',')\n",
    "    next(reader, None)  # skip the header\n",
    "    for train_output in reader:  \n",
    "        train_output_no_id = int(train_output[1])\n",
    "        train_outputs.append(train_output_no_id)"
   ]
  },
  {
   "cell_type": "code",
   "execution_count": 6,
   "metadata": {
    "collapsed": true
   },
   "outputs": [],
   "source": [
    "## convert_to_numpy ##\n",
    "# Convert python lists to numpy arrays\n",
    "train_inputs_np = np.asarray(train_inputs)\n",
    "train_outputs_np = np.asarray(train_outputs)\n",
    "\n",
    "# Save as numpy array files\n",
    "np.save('train_inputs', train_inputs_np)\n",
    "np.save('train_outputs', train_outputs_np)"
   ]
  },
  {
   "cell_type": "code",
   "execution_count": 21,
   "metadata": {
    "collapsed": false
   },
   "outputs": [],
   "source": [
    "## Load numpy array files ##\n",
    "train_inputs = np.load(path+'\\\\train_inputs.npy')\n",
    "train_outputs = np.load(path+'\\\\train_outputs.npy')\n"
   ]
  },
  {
   "cell_type": "code",
   "execution_count": 7,
   "metadata": {
    "collapsed": true
   },
   "outputs": [
    {
     "ename": "ValueError",
     "evalue": "operands could not be broadcast together with shapes (1,50000) (2304,) ",
     "output_type": "error",
     "traceback": [
      "\u001b[1;31m---------------------------------------------------------------------------\u001b[0m",
      "\u001b[1;31mValueError\u001b[0m                                Traceback (most recent call last)",
      "\u001b[1;32m<ipython-input-7-b5614ce7d8f4>\u001b[0m in \u001b[0;36m<module>\u001b[1;34m()\u001b[0m\n\u001b[0;32m     21\u001b[0m \u001b[0mjoblib\u001b[0m\u001b[1;33m.\u001b[0m\u001b[0mdump\u001b[0m\u001b[1;33m(\u001b[0m\u001b[0mresult\u001b[0m\u001b[1;33m,\u001b[0m \u001b[1;34m\"PCA_821.pkl\"\u001b[0m\u001b[1;33m)\u001b[0m\u001b[1;33m\u001b[0m\u001b[0m\n\u001b[0;32m     22\u001b[0m \u001b[0mnp\u001b[0m\u001b[1;33m.\u001b[0m\u001b[0msave\u001b[0m\u001b[1;33m(\u001b[0m\u001b[1;34m'train_inputs_PCA'\u001b[0m\u001b[1;33m,\u001b[0m \u001b[0mresult\u001b[0m\u001b[1;33m.\u001b[0m\u001b[0mtransform\u001b[0m\u001b[1;33m(\u001b[0m\u001b[0mtrain_inputs\u001b[0m\u001b[1;33m)\u001b[0m\u001b[1;33m)\u001b[0m\u001b[1;33m\u001b[0m\u001b[0m\n\u001b[1;32m---> 23\u001b[1;33m \u001b[0mnp\u001b[0m\u001b[1;33m.\u001b[0m\u001b[0msave\u001b[0m\u001b[1;33m(\u001b[0m\u001b[1;34m'test_inputs_PCA'\u001b[0m\u001b[1;33m,\u001b[0m \u001b[0mresult\u001b[0m\u001b[1;33m.\u001b[0m\u001b[0mtransform\u001b[0m\u001b[1;33m(\u001b[0m\u001b[0mtrain_outputs\u001b[0m\u001b[1;33m)\u001b[0m\u001b[1;33m)\u001b[0m\u001b[1;33m\u001b[0m\u001b[0m\n\u001b[0m",
      "\u001b[1;32mG:\\Anaconda3\\lib\\site-packages\\sklearn\\decomposition\\pca.py\u001b[0m in \u001b[0;36mtransform\u001b[1;34m(self, X)\u001b[0m\n\u001b[0;32m    386\u001b[0m         \u001b[0mX\u001b[0m \u001b[1;33m=\u001b[0m \u001b[0mcheck_array\u001b[0m\u001b[1;33m(\u001b[0m\u001b[0mX\u001b[0m\u001b[1;33m)\u001b[0m\u001b[1;33m\u001b[0m\u001b[0m\n\u001b[0;32m    387\u001b[0m         \u001b[1;32mif\u001b[0m \u001b[0mself\u001b[0m\u001b[1;33m.\u001b[0m\u001b[0mmean_\u001b[0m \u001b[1;32mis\u001b[0m \u001b[1;32mnot\u001b[0m \u001b[1;32mNone\u001b[0m\u001b[1;33m:\u001b[0m\u001b[1;33m\u001b[0m\u001b[0m\n\u001b[1;32m--> 388\u001b[1;33m             \u001b[0mX\u001b[0m \u001b[1;33m=\u001b[0m \u001b[0mX\u001b[0m \u001b[1;33m-\u001b[0m \u001b[0mself\u001b[0m\u001b[1;33m.\u001b[0m\u001b[0mmean_\u001b[0m\u001b[1;33m\u001b[0m\u001b[0m\n\u001b[0m\u001b[0;32m    389\u001b[0m         \u001b[0mX_transformed\u001b[0m \u001b[1;33m=\u001b[0m \u001b[0mfast_dot\u001b[0m\u001b[1;33m(\u001b[0m\u001b[0mX\u001b[0m\u001b[1;33m,\u001b[0m \u001b[0mself\u001b[0m\u001b[1;33m.\u001b[0m\u001b[0mcomponents_\u001b[0m\u001b[1;33m.\u001b[0m\u001b[0mT\u001b[0m\u001b[1;33m)\u001b[0m\u001b[1;33m\u001b[0m\u001b[0m\n\u001b[0;32m    390\u001b[0m         \u001b[1;32mif\u001b[0m \u001b[0mself\u001b[0m\u001b[1;33m.\u001b[0m\u001b[0mwhiten\u001b[0m\u001b[1;33m:\u001b[0m\u001b[1;33m\u001b[0m\u001b[0m\n",
      "\u001b[1;31mValueError\u001b[0m: operands could not be broadcast together with shapes (1,50000) (2304,) "
     ]
    }
   ],
   "source": [
    "\n",
    "pca = PCA(n_components = 821)\n",
    "result = pca.fit(train_inputs)\n",
    "VR = result.explained_variance_ratio_\n",
    "\n",
    "joblib.dump(result, \"PCA_821.pkl\")\n",
    "np.save('train_inputs_PCA', result.transform(train_inputs))\n",
    "np.save('test_inputs_PCA', result.transform(train_outputs))"
   ]
  },
  {
   "cell_type": "code",
   "execution_count": null,
   "metadata": {
    "collapsed": true
   },
   "outputs": [],
   "source": [
    "train_inputs = np.load(path+'\\\\train_inputs_PCA.npy')\n",
    "train_outputs = np.load(path+'\\\\train_outputs_PCA.npy')"
   ]
  },
  {
   "cell_type": "code",
   "execution_count": 31,
   "metadata": {
    "collapsed": true
   },
   "outputs": [],
   "source": [
    "## Define sigmoid function and its derivitive ##\n",
    "def tanh(x):\n",
    "    return np.tanh(x)\n",
    "\n",
    "def tanh_deriv(x):\n",
    "    return 1.0 - np.tanh(x)**2\n",
    "\n",
    "def sigmoid(x):\n",
    "    return 1/(1 + np.exp(-x))\n",
    "\n",
    "def sigmoid_deriv(x):\n",
    "    return sigmoid(x)*(1-sigmoid(x))"
   ]
  },
  {
   "cell_type": "code",
   "execution_count": 38,
   "metadata": {
    "collapsed": false
   },
   "outputs": [],
   "source": [
    "class NeuralNetwork:\n",
    "    def __init__(self, num_input, num_hidden, num_output, sigmoid_func = 'sigmoid', iterations = 10000, learning_rate = .2):\n",
    "        \"\"\"\n",
    "        :param num_input: The number of units in the input layer\n",
    "        :param num_hidden: The number of units in the hidden layer\n",
    "        :param num_output: The number of units in the output layer\n",
    "        :param sigmoid_func: The activation function to be used. Can be \"sigmoid\" or \"tanh\"\n",
    "        \"\"\"\n",
    "        \n",
    "        # set the activation function to be used\n",
    "        if sigmoid_func == 'sigmoid':\n",
    "            self.sigmoid_func =  sigmoid\n",
    "            self.sigmoid_func_deriv = sigmoid_deriv\n",
    "        elif sigmoid_func == 'tanh':\n",
    "            self.sigmoid_func = tanh\n",
    "            self.sigmoid_func_deriv = tanh_deriv\n",
    "            \n",
    "        self.num_input = num_input\n",
    "        self.num_hidden = num_hidden\n",
    "        self.num_output = num_output\n",
    "        self.iterations = iterations\n",
    "        self.learning_rate =learning_rate\n",
    "        \n",
    "    ##set the weights of neurons in layers randomly from 0 to w, adding a bias unit at every layer\n",
    "    def set_weight(self,w):\n",
    "        self.weights = []\n",
    "        # set the weights from the input layer to the hidden layer:[-w,w), add the weight of the bias term\n",
    "        self.weights.append((2*np.random.random_sample((self.num_input + 1, self.num_hidden + 1))-1)*w)\n",
    "        # set the weights from the hidden layer to the output layer:[-w,w), add the weight of the bias term\n",
    "        self.weights.append((2*np.random.random((self.num_hidden + 1, self.num_output))-1)*w)\n",
    "                \n",
    "        \n",
    "    def fitNN(self, X, Y):\n",
    "        \n",
    "        # adding the bias term to input data\n",
    "        bias = np.ones(X.shape[0])\n",
    "        X = np.concatenate((X, bias[:,np.newaxis]), axis=1)\n",
    "        Y = np.array(Y)\n",
    "\n",
    "        ## stochastic gradient descent\n",
    "        for k in range(self.iterations):\n",
    "            \n",
    "            # pick a training example randomly\n",
    "            index_ex = np.random.randint(X.shape[0],size=50)\n",
    "            out = [X[index_ex]]\n",
    "\n",
    "            ## forward pass            \n",
    "            #compute the output of hidden units\n",
    "            out.append(self.sigmoid_func(np.dot(out[0],  self.weights[0])))\n",
    "            #compute the output of output units\n",
    "            out.append(self.sigmoid_func(np.dot(out[1],  self.weights[1])))\n",
    "            \n",
    "            ## back propogation\n",
    "            # for the output unit, compute the correction\n",
    "            deltas = [(Y[index_ex] - out[-1]) * self.sigmoid_func_deriv(out[-1])]\n",
    "\n",
    "            # for each hidden unit, compute its share of the correction\n",
    "            deltas.append(deltas[-1].dot(self.weights[1].T)*self.sigmoid_func_deriv(out[1]))\n",
    "            deltas.reverse()\n",
    "            \n",
    "            # update weights between the hidden layer and the output layer\n",
    "            for i in range(len( self.weights)):\n",
    "                 self.weights[i] += self.learning_rate * np.dot(np.matrix(out[i]).T,np.matrix(deltas[i]))/50\n",
    "                \n",
    "    def predict(self, x):\n",
    "        # adding the bias term\n",
    "        x = np.array(x)\n",
    "        x = np.concatenate((x, [1]), axis=0)\n",
    "        predictions = x\n",
    "        # forward pass to get the classification of the input instance\n",
    "        for i in range(0, len(self.weights)):\n",
    "            predictions = self.sigmoid_func(np.dot(predictions, self.weights[i]))\n",
    "        return predictions"
   ]
  },
  {
   "cell_type": "code",
   "execution_count": 34,
   "metadata": {
    "collapsed": true
   },
   "outputs": [],
   "source": [
    "## function of tuning parameter sets using kfold ##\n",
    "def tune_para(X,y,param,k):                      \n",
    "    KF = KFold(X_train.shape[0], n_folds=k)\n",
    "    ave_precision = []\n",
    "    for i in range (len(param)): \n",
    "        precision = []\n",
    "    \n",
    "        for train, test in KF:     \n",
    "            train_x_kf, test_x_kf, train_y_kf, test_y_kf = X[train], X[test], y[train], y[test]\n",
    "            labels_train_kf = LabelBinarizer().fit_transform(train_y_kf)\n",
    "\n",
    "            nn = NeuralNetwork(param[i][0],param[i][1],param[i][2],param[i][3],param[i][4],param[i][5])    \n",
    "            nn.set_weight(0.2)\n",
    "            nn.fitNN(train_x_kf,labels_train_kf)\n",
    "            \n",
    "            predictions = []\n",
    "            for j in range(test_x_kf.shape[0]):\n",
    "                o = nn.predict(test_x_kf[j] )\n",
    "                predictions.append(np.argmax(o))\n",
    "            precision.append( np.mean(predictions == np.ravel(test_y_kf)))\n",
    "        \n",
    "        ave_precision.append( np.sum(precision) * 100 / k)\n",
    "        print ('parameter set:', param[i], 'average precision: ',ave_precision[i], '%')\n",
    "    \n",
    "    best_param = param[np.argmax(ave_precision)]\n",
    "    print ('The best parameter set until now:', best_param)\n",
    "    return best_param\n",
    "\n",
    " \n"
   ]
  },
  {
   "cell_type": "code",
   "execution_count": 40,
   "metadata": {
    "collapsed": false
   },
   "outputs": [
    {
     "name": "stdout",
     "output_type": "stream",
     "text": [
      "Tune the number of hidden units\n",
      "parameter set: [2304, 3000, 10, 'sigmoid', 10000, 0.2] average precision:  29.25 %\n",
      "parameter set: [2304, 5000, 10, 'sigmoid', 10000, 0.2] average precision:  29.16 %\n",
      "parameter set: [2304, 7000, 10, 'sigmoid', 10000, 0.2] average precision:  28.88 %\n",
      "The best parameter set until now: [2304, 3000, 10, 'sigmoid', 10000, 0.2]\n",
      "\n",
      "\n",
      "Tune the learning rate of gradient descent\n",
      "parameter set: [2304, 3000, 10, 'sigmoid', 10000, 0.15] average precision:  29.29 %\n",
      "parameter set: [2304, 3000, 10, 'sigmoid', 10000, 0.2] average precision:  28.87 %\n",
      "parameter set: [2304, 3000, 10, 'sigmoid', 10000, 0.25] average precision:  28.3 %\n",
      "The best parameter set until now: [2304, 3000, 10, 'sigmoid', 10000, 0.15]\n",
      "\n",
      "\n",
      "Tune the number of iterations of gradient descent\n",
      "parameter set: [2304, 3000, 10, 'sigmoid', 15000, 0.15] average precision:  28.7 %\n",
      "parameter set: [2304, 3000, 10, 'sigmoid', 20000, 0.15] average precision:  27.79 %\n",
      "parameter set: [2304, 3000, 10, 'sigmoid', 25000, 0.15] average precision:  27.65 %\n",
      "The best parameter set until now: [2304, 3000, 10, 'sigmoid', 15000, 0.15]\n",
      "\n",
      "\n",
      "Tune activatino function\n",
      "parameter set: [2304, 3000, 10, 'sigmoid', 15000, 0.15] average precision:  28.68 %\n",
      "parameter set: [2304, 3000, 10, 'tanh', 15000, 0.15] average precision:  14.39 %\n",
      "The best parameter set until now: [2304, 3000, 10, 'sigmoid', 15000, 0.15]\n",
      "\n",
      "\n",
      "The best parameters are:\n",
      "number of hidden units: 3000\n",
      "learning rate: 0.15\n",
      "number of iterations: 15000\n",
      "activatino function: sigmoid\n"
     ]
    }
   ],
   "source": [
    "##\n",
    "X = np.array(train_inputs)\n",
    "y = np.array(train_outputs)\n",
    "X_train, X_test, y_train, y_test = train_test_split(X, y, test_size=0.05, train_size = 0.2, random_state=0)\n",
    "labels_train = LabelBinarizer().fit_transform(y_train)\n",
    "\n",
    "#tune number of hidden units\n",
    "print('Tune the number of hidden units')\n",
    "param_set = [[2304,3000,10,'sigmoid',10000,.2],[2304,5000,10,'sigmoid',10000,.2],[2304,7000,10,'sigmoid',10000,.2]]\n",
    "best_param_set = tune_para(X_train,y_train,param_set,5)\n",
    "H = best_param_set[1]\n",
    "\n",
    "#tune learning rate\n",
    "print ('\\n')\n",
    "print ('Tune the learning rate of gradient descent')\n",
    "param_set = [[2304,H,10,'sigmoid',10000,.15],[2304,H,10,'sigmoid',10000,.2],[2304,H,10,'sigmoid',10000,.25]]\n",
    "best_param_set = tune_para(X_train,y_train,param_set,5)\n",
    "L = best_param_set[5]\n",
    "\n",
    "#tune number of iterations\n",
    "print ('\\n')\n",
    "print ('Tune the number of iterations of gradient descent')\n",
    "param_set = [[2304,H,10,'sigmoid',15000,L],[2304,H,10,'sigmoid',20000,L],[2304,H,10,'sigmoid',25000,L]]\n",
    "best_param_set = tune_para(X_train,y_train,param_set,5)\n",
    "I = best_param_set[4]\n",
    "\n",
    "#tune activation function\n",
    "print ('\\n')\n",
    "print ('Tune activatino function')\n",
    "param_set = [[2304,H,10,'sigmoid',I,L],[2304,H,10,'tanh',I,L]]\n",
    "best_param_set = tune_para(X_train,y_train,param_set,5)\n",
    "\n",
    "print ('\\n')\n",
    "print ('The best parameters are:')\n",
    "print('number of hidden units:', best_param_set[1])\n",
    "print('learning rate:', best_param_set[5])\n",
    "print('number of iterations:',best_param_set[4])\n",
    "print('activatino function:',best_param_set[3])\n"
   ]
  },
  {
   "cell_type": "code",
   "execution_count": 41,
   "metadata": {
    "collapsed": false
   },
   "outputs": [
    {
     "name": "stdout",
     "output_type": "stream",
     "text": [
      "[[165   0  13  22   7   6  25  13   1  12]\n",
      " [  2 123  26  27  18  10  22  21  37   9]\n",
      " [ 36  26  37  27  29   7  22  26  15  14]\n",
      " [ 20  20  25  95   7  13  22   5  22   9]\n",
      " [ 12  14  17  14  71   7  30  39  14  32]\n",
      " [ 20   6  16  43  21  32  30  13  11  29]\n",
      " [ 28  10  11  10  18   9  67  32   8  20]\n",
      " [ 22  12  22  12  34  10  33  76   5  39]\n",
      " [  9  48  16  62  16  14  23   9  56  11]\n",
      " [ 18   7  13  17  32  11  35  44  18  56]]\n",
      "             precision    recall  f1-score   support\n",
      "\n",
      "          0       0.50      0.62      0.55       264\n",
      "          1       0.46      0.42      0.44       295\n",
      "          2       0.19      0.15      0.17       239\n",
      "          3       0.29      0.40      0.34       238\n",
      "          4       0.28      0.28      0.28       250\n",
      "          5       0.27      0.14      0.19       221\n",
      "          6       0.22      0.31      0.26       213\n",
      "          7       0.27      0.29      0.28       265\n",
      "          8       0.30      0.21      0.25       264\n",
      "          9       0.24      0.22      0.23       251\n",
      "\n",
      "avg / total       0.31      0.31      0.30      2500\n",
      "\n"
     ]
    }
   ],
   "source": [
    "nn = NeuralNetwork(best_param_set[0],best_param_set[1],best_param_set[2],best_param_set[3],best_param_set[4],best_param_set[5])\n",
    "nn.set_weight(0.2)\n",
    "nn.fitNN(X_train,labels_train)\n",
    "\n",
    "predictions = []\n",
    "for i in range(X_test.shape[0]):\n",
    "    o = nn.predict(X_test[i] )\n",
    "    predictions.append(np.argmax(o))\n",
    "print (confusion_matrix(y_test,predictions))\n",
    "print (classification_report(y_test,predictions))"
   ]
  },
  {
   "cell_type": "code",
   "execution_count": 43,
   "metadata": {
    "collapsed": false
   },
   "outputs": [
    {
     "name": "stderr",
     "output_type": "stream",
     "text": [
      "G:\\Anaconda3\\lib\\site-packages\\matplotlib\\collections.py:590: FutureWarning: elementwise comparison failed; returning scalar instead, but in the future will perform elementwise comparison\n",
      "  if self._edgecolors == str('face'):\n"
     ]
    },
    {
     "data": {
      "image/png": "[encoded data removed]",
      "text/plain": [
       "<matplotlib.figure.Figure at 0x585dda0>"
      ]
     },
     "metadata": {},
     "output_type": "display_data"
    }
   ],
   "source": [
    "from sklearn.metrics import confusion_matrix\n",
    "cm = confusion_matrix(y_test,predictions)\n",
    "plt.matshow(cm)\n",
    "plt.title('Confusion matrix')\n",
    "plt.colorbar()\n",
    "plt.ylabel('True label')\n",
    "plt.xlabel('Predicted label')\n",
    "plt.show()"
   ]
  },
  {
   "cell_type": "code",
   "execution_count": null,
   "metadata": {
    "collapsed": true
   },
   "outputs": [],
   "source": []
  }
 ],
 "metadata": {
  "kernelspec": {
   "display_name": "Python 3",
   "language": "python",
   "name": "python3"
  },
  "language_info": {
   "codemirror_mode": {
    "name": "ipython",
    "version": 3
   },
   "file_extension": ".py",
   "mimetype": "text/x-python",
   "name": "python",
   "nbconvert_exporter": "python",
   "pygments_lexer": "ipython3",
   "version": "3.5.0"
  }
 },
 "nbformat": 4,
 "nbformat_minor": 0
}
